{
 "cells": [
  {
   "cell_type": "code",
   "execution_count": 13,
   "metadata": {},
   "outputs": [],
   "source": [
    "import os\n",
    "import sys\n",
    "import random\n",
    "import warnings\n",
    "\n",
    "import numpy as np\n",
    "import pandas as pd\n",
    "\n",
    "import matplotlib.pyplot as plt\n",
    "\n",
    "from tqdm import tqdm\n",
    "from itertools import chain\n",
    "from skimage.io import imread, imshow, imread_collection, concatenate_images\n",
    "from skimage.transform import resize\n",
    "from skimage.morphology import label\n",
    "\n",
    "from keras.models import Model, load_model\n",
    "from keras.layers import Input\n",
    "from keras.layers.core import Dropout, Lambda\n",
    "from keras.layers.convolutional import Conv2D, Conv2DTranspose\n",
    "from keras.layers.pooling import MaxPooling2D\n",
    "from keras.layers.merge import concatenate\n",
    "from keras.callbacks import EarlyStopping, ModelCheckpoint\n",
    "from keras import backend as K\n",
    "\n",
    "import tensorflow as tf"
   ]
  },
  {
   "cell_type": "code",
   "execution_count": 14,
   "metadata": {},
   "outputs": [],
   "source": [
    "\n",
    "# Set some parameters\n",
    "IMG_WIDTH = 128\n",
    "IMG_HEIGHT = 128\n",
    "IMG_CHANNELS = 3\n",
    "TRAIN_PATH = 'stage1_train/'\n",
    "TEST_PATH = 'stage1_test/'\n",
    "\n",
    "warnings.filterwarnings('ignore', category=UserWarning, module='skimage')\n",
    "seed = 42\n",
    "random.seed = seed\n",
    "np.random.seed = seed"
   ]
  },
  {
   "cell_type": "code",
   "execution_count": 15,
   "metadata": {},
   "outputs": [],
   "source": [
    "# Get train and test IDs\n",
    "train_ids = next(os.walk(TRAIN_PATH))[1]\n",
    "test_ids = next(os.walk(TEST_PATH))[1]"
   ]
  },
  {
   "cell_type": "code",
   "execution_count": 17,
   "metadata": {},
   "outputs": [],
   "source": [
    "#Get the data\n",
    "#Let's first import all the images and associated masks. \n",
    "#I downsample both the training and test images to keep things light and manageable, but we need to keep a record of the original sizes of the test images to upsample our predicted masks and create correct run-length encodings later on. \n",
    "#There are definitely better ways to handle this, but it works fine for now!"
   ]
  },
  {
   "cell_type": "code",
   "execution_count": 18,
   "metadata": {},
   "outputs": [
    {
     "name": "stdout",
     "output_type": "stream",
     "text": [
      "Getting and resizing train images and masks ... \n"
     ]
    },
    {
     "name": "stderr",
     "output_type": "stream",
     "text": [
      "100%|██████████| 670/670 [03:20<00:00,  3.35it/s]"
     ]
    },
    {
     "name": "stdout",
     "output_type": "stream",
     "text": [
      "Getting and resizing test images ... \n"
     ]
    },
    {
     "name": "stderr",
     "output_type": "stream",
     "text": [
      "\n",
      "100%|██████████| 65/65 [00:00<00:00, 66.76it/s]"
     ]
    },
    {
     "name": "stdout",
     "output_type": "stream",
     "text": [
      "Done!\n"
     ]
    },
    {
     "name": "stderr",
     "output_type": "stream",
     "text": [
      "\n"
     ]
    }
   ],
   "source": [
    "# Get and resize train images and masks\n",
    "X_train = np.zeros((len(train_ids), IMG_HEIGHT, IMG_WIDTH, IMG_CHANNELS), dtype=np.uint8)\n",
    "Y_train = np.zeros((len(train_ids), IMG_HEIGHT, IMG_WIDTH, 1), dtype=np.bool)\n",
    "print('Getting and resizing train images and masks ... ')\n",
    "sys.stdout.flush()\n",
    "for n, id_ in tqdm(enumerate(train_ids), total=len(train_ids)):\n",
    "    path = TRAIN_PATH + id_\n",
    "    img = imread(path + '/images/' + id_ + '.png')[:,:,:IMG_CHANNELS]\n",
    "    img = resize(img, (IMG_HEIGHT, IMG_WIDTH), mode='constant', preserve_range=True)\n",
    "    X_train[n] = img\n",
    "    mask = np.zeros((IMG_HEIGHT, IMG_WIDTH, 1), dtype=np.bool)\n",
    "    for mask_file in next(os.walk(path + '/masks/'))[2]:\n",
    "        mask_ = imread(path + '/masks/' + mask_file)\n",
    "        mask_ = np.expand_dims(resize(mask_, (IMG_HEIGHT, IMG_WIDTH), mode='constant', \n",
    "                                      preserve_range=True), axis=-1)\n",
    "        mask = np.maximum(mask, mask_)\n",
    "    Y_train[n] = mask\n",
    "\n",
    "# Get and resize test images\n",
    "X_test = np.zeros((len(test_ids), IMG_HEIGHT, IMG_WIDTH, IMG_CHANNELS), dtype=np.uint8)\n",
    "sizes_test = []\n",
    "print('Getting and resizing test images ... ')\n",
    "sys.stdout.flush()\n",
    "for n, id_ in tqdm(enumerate(test_ids), total=len(test_ids)):\n",
    "    path = TEST_PATH + id_\n",
    "    img = imread(path + '/images/' + id_ + '.png')[:,:,:IMG_CHANNELS]\n",
    "    sizes_test.append([img.shape[0], img.shape[1]])\n",
    "    img = resize(img, (IMG_HEIGHT, IMG_WIDTH), mode='constant', preserve_range=True)\n",
    "    X_test[n] = img\n",
    "\n",
    "print('Done!')"
   ]
  },
  {
   "cell_type": "code",
   "execution_count": 19,
   "metadata": {},
   "outputs": [
    {
     "data": {
      "image/png": "[encoded data removed]",
      "text/plain": [
       "<Figure size 432x288 with 1 Axes>"
      ]
     },
     "metadata": {
      "needs_background": "light"
     },
     "output_type": "display_data"
    },
    {
     "data": {
      "image/png": "[encoded data removed]",
      "text/plain": [
       "<Figure size 432x288 with 1 Axes>"
      ]
     },
     "metadata": {
      "needs_background": "light"
     },
     "output_type": "display_data"
    }
   ],
   "source": [
    "#Let's see if things look all right by drawing some random images and their associated masks.\n",
    "\n",
    "# Check if training data looks all right\n",
    "ix = random.randint(0, len(train_ids))\n",
    "imshow(X_train[ix])\n",
    "plt.show()\n",
    "imshow(np.squeeze(Y_train[ix]))\n",
    "plt.show()\n"
   ]
  },
  {
   "cell_type": "code",
   "execution_count": 20,
   "metadata": {},
   "outputs": [],
   "source": [
    "#Seems good!\n",
    "\n",
    "#Create our Keras metric\n",
    "#Now we try to define the mean average precision at different intersection over union (IoU) thresholds metric in Keras. \n",
    "#TensorFlow has a mean IoU metric, but it doesn't have any native support for the mean over multiple thresholds, so I tried to implement this.\n",
    "#I'm by no means certain that this implementation is correct, though! Any assistance in verifying this would be most welcome!\n",
    "\n",
    "#Update: This implementation is most definitely not correct due to the very large discrepancy between the results reported here and the LB results.\n",
    "#It also seems to just increase over time no matter what when you train ..."
   ]
  },
  {
   "cell_type": "code",
   "execution_count": 21,
   "metadata": {},
   "outputs": [],
   "source": [
    "# Define IoU metric\n",
    "def mean_iou(y_true, y_pred):\n",
    "    prec = []\n",
    "    for t in np.arange(0.5, 1.0, 0.05):\n",
    "        y_pred_ = tf.to_int32(y_pred > t)\n",
    "        score, up_opt = tf.metrics.mean_iou(y_true, y_pred_, 2)\n",
    "        K.get_session().run(tf.local_variables_initializer())\n",
    "        with tf.control_dependencies([up_opt]):\n",
    "            score = tf.identity(score)\n",
    "        prec.append(score)\n",
    "    return K.mean(K.stack(prec), axis=0)"
   ]
  },
  {
   "cell_type": "code",
   "execution_count": 22,
   "metadata": {},
   "outputs": [],
   "source": [
    "#Build and train our neural network\n",
    "#Next we build our U-Net model, loosely based on U-Net: Convolutional Networks for Biomedical Image Segmentation and very similar to this repo from the Kaggle Ultrasound Nerve Segmentation competition.\n"
   ]
  },
  {
   "cell_type": "code",
   "execution_count": 23,
   "metadata": {},
   "outputs": [
    {
     "name": "stdout",
     "output_type": "stream",
     "text": [
      "____________________________________________________________________________________________________\n",
      "Layer (type)                     Output Shape          Param #     Connected to                     \n",
      "====================================================================================================\n",
      "input_1 (InputLayer)             (None, 128, 128, 3)   0                                            \n",
      "____________________________________________________________________________________________________\n",
      "lambda_1 (Lambda)                (None, 128, 128, 3)   0           input_1[0][0]                    \n",
      "____________________________________________________________________________________________________\n",
      "conv2d_1 (Conv2D)                (None, 128, 128, 16)  448         lambda_1[0][0]                   \n",
      "____________________________________________________________________________________________________\n",
      "dropout_1 (Dropout)              (None, 128, 128, 16)  0           conv2d_1[0][0]                   \n",
      "____________________________________________________________________________________________________\n",
      "conv2d_2 (Conv2D)                (None, 128, 128, 16)  2320        dropout_1[0][0]                  \n",
      "____________________________________________________________________________________________________\n",
      "max_pooling2d_1 (MaxPooling2D)   (None, 64, 64, 16)    0           conv2d_2[0][0]                   \n",
      "____________________________________________________________________________________________________\n",
      "conv2d_3 (Conv2D)                (None, 64, 64, 32)    4640        max_pooling2d_1[0][0]            \n",
      "____________________________________________________________________________________________________\n",
      "dropout_2 (Dropout)              (None, 64, 64, 32)    0           conv2d_3[0][0]                   \n",
      "____________________________________________________________________________________________________\n",
      "conv2d_4 (Conv2D)                (None, 64, 64, 32)    9248        dropout_2[0][0]                  \n",
      "____________________________________________________________________________________________________\n",
      "max_pooling2d_2 (MaxPooling2D)   (None, 32, 32, 32)    0           conv2d_4[0][0]                   \n",
      "____________________________________________________________________________________________________\n",
      "conv2d_5 (Conv2D)                (None, 32, 32, 64)    18496       max_pooling2d_2[0][0]            \n",
      "____________________________________________________________________________________________________\n",
      "dropout_3 (Dropout)              (None, 32, 32, 64)    0           conv2d_5[0][0]                   \n",
      "____________________________________________________________________________________________________\n",
      "conv2d_6 (Conv2D)                (None, 32, 32, 64)    36928       dropout_3[0][0]                  \n",
      "____________________________________________________________________________________________________\n",
      "max_pooling2d_3 (MaxPooling2D)   (None, 16, 16, 64)    0           conv2d_6[0][0]                   \n",
      "____________________________________________________________________________________________________\n",
      "conv2d_7 (Conv2D)                (None, 16, 16, 128)   73856       max_pooling2d_3[0][0]            \n",
      "____________________________________________________________________________________________________\n",
      "dropout_4 (Dropout)              (None, 16, 16, 128)   0           conv2d_7[0][0]                   \n",
      "____________________________________________________________________________________________________\n",
      "conv2d_8 (Conv2D)                (None, 16, 16, 128)   147584      dropout_4[0][0]                  \n",
      "____________________________________________________________________________________________________\n",
      "max_pooling2d_4 (MaxPooling2D)   (None, 8, 8, 128)     0           conv2d_8[0][0]                   \n",
      "____________________________________________________________________________________________________\n",
      "conv2d_9 (Conv2D)                (None, 8, 8, 256)     295168      max_pooling2d_4[0][0]            \n",
      "____________________________________________________________________________________________________\n",
      "dropout_5 (Dropout)              (None, 8, 8, 256)     0           conv2d_9[0][0]                   \n",
      "____________________________________________________________________________________________________\n",
      "conv2d_10 (Conv2D)               (None, 8, 8, 256)     590080      dropout_5[0][0]                  \n",
      "____________________________________________________________________________________________________\n",
      "conv2d_transpose_1 (Conv2DTransp (None, 16, 16, 128)   131200      conv2d_10[0][0]                  \n",
      "____________________________________________________________________________________________________\n",
      "concatenate_1 (Concatenate)      (None, 16, 16, 256)   0           conv2d_transpose_1[0][0]         \n",
      "                                                                   conv2d_8[0][0]                   \n",
      "____________________________________________________________________________________________________\n",
      "conv2d_11 (Conv2D)               (None, 16, 16, 128)   295040      concatenate_1[0][0]              \n",
      "____________________________________________________________________________________________________\n",
      "dropout_6 (Dropout)              (None, 16, 16, 128)   0           conv2d_11[0][0]                  \n",
      "____________________________________________________________________________________________________\n",
      "conv2d_12 (Conv2D)               (None, 16, 16, 128)   147584      dropout_6[0][0]                  \n",
      "____________________________________________________________________________________________________\n",
      "conv2d_transpose_2 (Conv2DTransp (None, 32, 32, 64)    32832       conv2d_12[0][0]                  \n",
      "____________________________________________________________________________________________________\n",
      "concatenate_2 (Concatenate)      (None, 32, 32, 128)   0           conv2d_transpose_2[0][0]         \n",
      "                                                                   conv2d_6[0][0]                   \n",
      "____________________________________________________________________________________________________\n",
      "conv2d_13 (Conv2D)               (None, 32, 32, 64)    73792       concatenate_2[0][0]              \n",
      "____________________________________________________________________________________________________\n",
      "dropout_7 (Dropout)              (None, 32, 32, 64)    0           conv2d_13[0][0]                  \n",
      "____________________________________________________________________________________________________\n",
      "conv2d_14 (Conv2D)               (None, 32, 32, 64)    36928       dropout_7[0][0]                  \n",
      "____________________________________________________________________________________________________\n",
      "conv2d_transpose_3 (Conv2DTransp (None, 64, 64, 32)    8224        conv2d_14[0][0]                  \n",
      "____________________________________________________________________________________________________\n",
      "concatenate_3 (Concatenate)      (None, 64, 64, 64)    0           conv2d_transpose_3[0][0]         \n",
      "                                                                   conv2d_4[0][0]                   \n",
      "____________________________________________________________________________________________________\n",
      "conv2d_15 (Conv2D)               (None, 64, 64, 32)    18464       concatenate_3[0][0]              \n",
      "____________________________________________________________________________________________________\n",
      "dropout_8 (Dropout)              (None, 64, 64, 32)    0           conv2d_15[0][0]                  \n",
      "____________________________________________________________________________________________________\n",
      "conv2d_16 (Conv2D)               (None, 64, 64, 32)    9248        dropout_8[0][0]                  \n",
      "____________________________________________________________________________________________________\n",
      "conv2d_transpose_4 (Conv2DTransp (None, 128, 128, 16)  2064        conv2d_16[0][0]                  \n",
      "____________________________________________________________________________________________________\n",
      "concatenate_4 (Concatenate)      (None, 128, 128, 32)  0           conv2d_transpose_4[0][0]         \n",
      "                                                                   conv2d_2[0][0]                   \n",
      "____________________________________________________________________________________________________\n",
      "conv2d_17 (Conv2D)               (None, 128, 128, 16)  4624        concatenate_4[0][0]              \n",
      "____________________________________________________________________________________________________\n",
      "dropout_9 (Dropout)              (None, 128, 128, 16)  0           conv2d_17[0][0]                  \n",
      "____________________________________________________________________________________________________\n",
      "conv2d_18 (Conv2D)               (None, 128, 128, 16)  2320        dropout_9[0][0]                  \n",
      "____________________________________________________________________________________________________\n",
      "conv2d_19 (Conv2D)               (None, 128, 128, 1)   17          conv2d_18[0][0]                  \n",
      "====================================================================================================\n",
      "Total params: 1,941,105\n",
      "Trainable params: 1,941,105\n",
      "Non-trainable params: 0\n",
      "____________________________________________________________________________________________________\n"
     ]
    }
   ],
   "source": [
    "# Build U-Net model\n",
    "inputs = Input((IMG_HEIGHT, IMG_WIDTH, IMG_CHANNELS))\n",
    "s = Lambda(lambda x: x / 255) (inputs)\n",
    "\n",
    "c1 = Conv2D(16, (3, 3), activation='elu', kernel_initializer='he_normal', padding='same') (s)\n",
    "c1 = Dropout(0.1) (c1)\n",
    "c1 = Conv2D(16, (3, 3), activation='elu', kernel_initializer='he_normal', padding='same') (c1)\n",
    "p1 = MaxPooling2D((2, 2)) (c1)\n",
    "\n",
    "c2 = Conv2D(32, (3, 3), activation='elu', kernel_initializer='he_normal', padding='same') (p1)\n",
    "c2 = Dropout(0.1) (c2)\n",
    "c2 = Conv2D(32, (3, 3), activation='elu', kernel_initializer='he_normal', padding='same') (c2)\n",
    "p2 = MaxPooling2D((2, 2)) (c2)\n",
    "\n",
    "c3 = Conv2D(64, (3, 3), activation='elu', kernel_initializer='he_normal', padding='same') (p2)\n",
    "c3 = Dropout(0.2) (c3)\n",
    "c3 = Conv2D(64, (3, 3), activation='elu', kernel_initializer='he_normal', padding='same') (c3)\n",
    "p3 = MaxPooling2D((2, 2)) (c3)\n",
    "\n",
    "c4 = Conv2D(128, (3, 3), activation='elu', kernel_initializer='he_normal', padding='same') (p3)\n",
    "c4 = Dropout(0.2) (c4)\n",
    "c4 = Conv2D(128, (3, 3), activation='elu', kernel_initializer='he_normal', padding='same') (c4)\n",
    "p4 = MaxPooling2D(pool_size=(2, 2)) (c4)\n",
    "\n",
    "c5 = Conv2D(256, (3, 3), activation='elu', kernel_initializer='he_normal', padding='same') (p4)\n",
    "c5 = Dropout(0.3) (c5)\n",
    "c5 = Conv2D(256, (3, 3), activation='elu', kernel_initializer='he_normal', padding='same') (c5)\n",
    "\n",
    "u6 = Conv2DTranspose(128, (2, 2), strides=(2, 2), padding='same') (c5)\n",
    "u6 = concatenate([u6, c4])\n",
    "c6 = Conv2D(128, (3, 3), activation='elu', kernel_initializer='he_normal', padding='same') (u6)\n",
    "c6 = Dropout(0.2) (c6)\n",
    "c6 = Conv2D(128, (3, 3), activation='elu', kernel_initializer='he_normal', padding='same') (c6)\n",
    "\n",
    "u7 = Conv2DTranspose(64, (2, 2), strides=(2, 2), padding='same') (c6)\n",
    "u7 = concatenate([u7, c3])\n",
    "c7 = Conv2D(64, (3, 3), activation='elu', kernel_initializer='he_normal', padding='same') (u7)\n",
    "c7 = Dropout(0.2) (c7)\n",
    "c7 = Conv2D(64, (3, 3), activation='elu', kernel_initializer='he_normal', padding='same') (c7)\n",
    "\n",
    "u8 = Conv2DTranspose(32, (2, 2), strides=(2, 2), padding='same') (c7)\n",
    "u8 = concatenate([u8, c2])\n",
    "c8 = Conv2D(32, (3, 3), activation='elu', kernel_initializer='he_normal', padding='same') (u8)\n",
    "c8 = Dropout(0.1) (c8)\n",
    "c8 = Conv2D(32, (3, 3), activation='elu', kernel_initializer='he_normal', padding='same') (c8)\n",
    "\n",
    "u9 = Conv2DTranspose(16, (2, 2), strides=(2, 2), padding='same') (c8)\n",
    "u9 = concatenate([u9, c1], axis=3)\n",
    "c9 = Conv2D(16, (3, 3), activation='elu', kernel_initializer='he_normal', padding='same') (u9)\n",
    "c9 = Dropout(0.1) (c9)\n",
    "c9 = Conv2D(16, (3, 3), activation='elu', kernel_initializer='he_normal', padding='same') (c9)\n",
    "\n",
    "outputs = Conv2D(1, (1, 1), activation='sigmoid') (c9)\n",
    "\n",
    "model = Model(inputs=[inputs], outputs=[outputs])\n",
    "model.compile(optimizer='adam', loss='binary_crossentropy', metrics=[mean_iou])\n",
    "model.summary()"
   ]
  },
  {
   "cell_type": "code",
   "execution_count": 24,
   "metadata": {},
   "outputs": [],
   "source": [
    "#Update: Changed to ELU units, added dropout.\n",
    "\n",
    "#Next we fit the model on the training data, using a validation split of 0.1. We use a small batch size because we have so little data. I recommend using checkpointing and early stopping when training your model. I won't do it here to make things a bit more reproducible (although it's very likely that your results will be different anyway). I'll just train for 10 epochs, which takes around 10 minutes in the Kaggle kernel with the current parameters.\n",
    "\n",
    "#Update: Added early stopping and checkpointing and increased to 30 epochs."
   ]
  },
  {
   "cell_type": "code",
   "execution_count": 25,
   "metadata": {},
   "outputs": [
    {
     "name": "stdout",
     "output_type": "stream",
     "text": [
      "Train on 603 samples, validate on 67 samples\n",
      "Epoch 1/50\n",
      "592/603 [============================>.] - ETA: 0s - loss: 0.4874 - mean_iou: 0.4002Epoch 00000: val_loss improved from inf to 0.22640, saving model to model-dsbowl2018-1.h5\n",
      "603/603 [==============================] - 9s - loss: 0.4838 - mean_iou: 0.4010 - val_loss: 0.2264 - val_mean_iou: 0.4500\n",
      "Epoch 2/50\n",
      "592/603 [============================>.] - ETA: 0s - loss: 0.2067 - mean_iou: 0.5108Epoch 00001: val_loss improved from 0.22640 to 0.18606, saving model to model-dsbowl2018-1.h5\n",
      "603/603 [==============================] - 6s - loss: 0.2062 - mean_iou: 0.5118 - val_loss: 0.1861 - val_mean_iou: 0.5697\n",
      "Epoch 3/50\n",
      "592/603 [============================>.] - ETA: 0s - loss: 0.1583 - mean_iou: 0.6062Epoch 00002: val_loss improved from 0.18606 to 0.15520, saving model to model-dsbowl2018-1.h5\n",
      "603/603 [==============================] - 6s - loss: 0.1575 - mean_iou: 0.6067 - val_loss: 0.1552 - val_mean_iou: 0.6385\n",
      "Epoch 4/50\n",
      "592/603 [============================>.] - ETA: 0s - loss: 0.1378 - mean_iou: 0.6600Epoch 00003: val_loss improved from 0.15520 to 0.14943, saving model to model-dsbowl2018-1.h5\n",
      "603/603 [==============================] - 6s - loss: 0.1374 - mean_iou: 0.6604 - val_loss: 0.1494 - val_mean_iou: 0.6790\n",
      "Epoch 5/50\n",
      "592/603 [============================>.] - ETA: 0s - loss: 0.1263 - mean_iou: 0.6938Epoch 00004: val_loss improved from 0.14943 to 0.10610, saving model to model-dsbowl2018-1.h5\n",
      "603/603 [==============================] - 6s - loss: 0.1254 - mean_iou: 0.6941 - val_loss: 0.1061 - val_mean_iou: 0.7073\n",
      "Epoch 6/50\n",
      "592/603 [============================>.] - ETA: 0s - loss: 0.1182 - mean_iou: 0.7181Epoch 00005: val_loss did not improve\n",
      "603/603 [==============================] - 6s - loss: 0.1188 - mean_iou: 0.7183 - val_loss: 0.1081 - val_mean_iou: 0.7279\n",
      "Epoch 7/50\n",
      "592/603 [============================>.] - ETA: 0s - loss: 0.1144 - mean_iou: 0.7356Epoch 00006: val_loss did not improve\n",
      "603/603 [==============================] - 6s - loss: 0.1157 - mean_iou: 0.7357 - val_loss: 0.1086 - val_mean_iou: 0.7434\n",
      "Epoch 8/50\n",
      "592/603 [============================>.] - ETA: 0s - loss: 0.1072 - mean_iou: 0.7496Epoch 00007: val_loss improved from 0.10610 to 0.08661, saving model to model-dsbowl2018-1.h5\n",
      "603/603 [==============================] - 6s - loss: 0.1077 - mean_iou: 0.7497 - val_loss: 0.0866 - val_mean_iou: 0.7559\n",
      "Epoch 9/50\n",
      "592/603 [============================>.] - ETA: 0s - loss: 0.1034 - mean_iou: 0.7614Epoch 00008: val_loss did not improve\n",
      "603/603 [==============================] - 6s - loss: 0.1036 - mean_iou: 0.7615 - val_loss: 0.1004 - val_mean_iou: 0.7664\n",
      "Epoch 10/50\n",
      "592/603 [============================>.] - ETA: 0s - loss: 0.1011 - mean_iou: 0.7706Epoch 00009: val_loss improved from 0.08661 to 0.07467, saving model to model-dsbowl2018-1.h5\n",
      "603/603 [==============================] - 6s - loss: 0.1011 - mean_iou: 0.7707 - val_loss: 0.0747 - val_mean_iou: 0.7750\n",
      "Epoch 11/50\n",
      "592/603 [============================>.] - ETA: 0s - loss: 0.0964 - mean_iou: 0.7790Epoch 00010: val_loss improved from 0.07467 to 0.07132, saving model to model-dsbowl2018-1.h5\n",
      "603/603 [==============================] - 6s - loss: 0.0970 - mean_iou: 0.7791 - val_loss: 0.0713 - val_mean_iou: 0.7827\n",
      "Epoch 12/50\n",
      "592/603 [============================>.] - ETA: 0s - loss: 0.0936 - mean_iou: 0.7861Epoch 00011: val_loss did not improve\n",
      "603/603 [==============================] - 6s - loss: 0.0944 - mean_iou: 0.7862 - val_loss: 0.0801 - val_mean_iou: 0.7893\n",
      "Epoch 13/50\n",
      "592/603 [============================>.] - ETA: 0s - loss: 0.0951 - mean_iou: 0.7919Epoch 00012: val_loss improved from 0.07132 to 0.06986, saving model to model-dsbowl2018-1.h5\n",
      "603/603 [==============================] - 6s - loss: 0.0948 - mean_iou: 0.7919 - val_loss: 0.0699 - val_mean_iou: 0.7948\n",
      "Epoch 14/50\n",
      "592/603 [============================>.] - ETA: 0s - loss: 0.0906 - mean_iou: 0.7974Epoch 00013: val_loss improved from 0.06986 to 0.06897, saving model to model-dsbowl2018-1.h5\n",
      "603/603 [==============================] - 6s - loss: 0.0906 - mean_iou: 0.7974 - val_loss: 0.0690 - val_mean_iou: 0.7999\n",
      "Epoch 15/50\n",
      "592/603 [============================>.] - ETA: 0s - loss: 0.0888 - mean_iou: 0.8020Epoch 00014: val_loss improved from 0.06897 to 0.06734, saving model to model-dsbowl2018-1.h5\n",
      "603/603 [==============================] - 6s - loss: 0.0888 - mean_iou: 0.8021 - val_loss: 0.0673 - val_mean_iou: 0.8044\n",
      "Epoch 16/50\n",
      "592/603 [============================>.] - ETA: 0s - loss: 0.0916 - mean_iou: 0.8065Epoch 00015: val_loss did not improve\n",
      "603/603 [==============================] - 6s - loss: 0.0912 - mean_iou: 0.8065 - val_loss: 0.0766 - val_mean_iou: 0.8084\n",
      "Epoch 17/50\n",
      "592/603 [============================>.] - ETA: 0s - loss: 0.0934 - mean_iou: 0.8099Epoch 00016: val_loss did not improve\n",
      "603/603 [==============================] - 6s - loss: 0.0929 - mean_iou: 0.8100 - val_loss: 0.0709 - val_mean_iou: 0.8116\n",
      "Epoch 18/50\n",
      "592/603 [============================>.] - ETA: 0s - loss: 0.0902 - mean_iou: 0.8132Epoch 00017: val_loss did not improve\n",
      "603/603 [==============================] - 6s - loss: 0.0902 - mean_iou: 0.8132 - val_loss: 0.0696 - val_mean_iou: 0.8148\n",
      "Epoch 19/50\n",
      "592/603 [============================>.] - ETA: 0s - loss: 0.0886 - mean_iou: 0.8163Epoch 00018: val_loss improved from 0.06734 to 0.06524, saving model to model-dsbowl2018-1.h5\n",
      "603/603 [==============================] - 6s - loss: 0.0887 - mean_iou: 0.8163 - val_loss: 0.0652 - val_mean_iou: 0.8177\n",
      "Epoch 20/50\n",
      "592/603 [============================>.] - ETA: 0s - loss: 0.0863 - mean_iou: 0.8191Epoch 00019: val_loss did not improve\n",
      "603/603 [==============================] - 6s - loss: 0.0863 - mean_iou: 0.8191 - val_loss: 0.0695 - val_mean_iou: 0.8204\n",
      "Epoch 21/50\n",
      "592/603 [============================>.] - ETA: 0s - loss: 0.0819 - mean_iou: 0.8217Epoch 00020: val_loss did not improve\n",
      "603/603 [==============================] - 6s - loss: 0.0830 - mean_iou: 0.8217 - val_loss: 0.0693 - val_mean_iou: 0.8231\n",
      "Epoch 22/50\n",
      "592/603 [============================>.] - ETA: 0s - loss: 0.0834 - mean_iou: 0.8242Epoch 00021: val_loss did not improve\n",
      "603/603 [==============================] - 6s - loss: 0.0835 - mean_iou: 0.8242 - val_loss: 0.0658 - val_mean_iou: 0.8254\n",
      "Epoch 23/50\n",
      "592/603 [============================>.] - ETA: 0s - loss: 0.0846 - mean_iou: 0.8265Epoch 00022: val_loss did not improve\n",
      "603/603 [==============================] - 6s - loss: 0.0843 - mean_iou: 0.8265 - val_loss: 0.0673 - val_mean_iou: 0.8276\n",
      "Epoch 24/50\n",
      "592/603 [============================>.] - ETA: 0s - loss: 0.0822 - mean_iou: 0.8286Epoch 00023: val_loss did not improve\n",
      "603/603 [==============================] - 6s - loss: 0.0824 - mean_iou: 0.8286 - val_loss: 0.0673 - val_mean_iou: 0.8296\n",
      "Epoch 25/50\n",
      "592/603 [============================>.] - ETA: 0s - loss: 0.0822 - mean_iou: 0.8305Epoch 00024: val_loss improved from 0.06524 to 0.06245, saving model to model-dsbowl2018-1.h5\n",
      "603/603 [==============================] - 6s - loss: 0.0824 - mean_iou: 0.8305 - val_loss: 0.0625 - val_mean_iou: 0.8316\n",
      "Epoch 26/50\n",
      "592/603 [============================>.] - ETA: 0s - loss: 0.0808 - mean_iou: 0.8324Epoch 00025: val_loss did not improve\n",
      "603/603 [==============================] - 6s - loss: 0.0806 - mean_iou: 0.8325 - val_loss: 0.0655 - val_mean_iou: 0.8334\n",
      "Epoch 27/50\n",
      "592/603 [============================>.] - ETA: 0s - loss: 0.0800 - mean_iou: 0.8342Epoch 00026: val_loss did not improve\n",
      "603/603 [==============================] - 6s - loss: 0.0802 - mean_iou: 0.8342 - val_loss: 0.0674 - val_mean_iou: 0.8351\n",
      "Epoch 28/50\n",
      "592/603 [============================>.] - ETA: 0s - loss: 0.0791 - mean_iou: 0.8359Epoch 00027: val_loss did not improve\n",
      "603/603 [==============================] - 6s - loss: 0.0797 - mean_iou: 0.8359 - val_loss: 0.0635 - val_mean_iou: 0.8367\n",
      "Epoch 29/50\n",
      "592/603 [============================>.] - ETA: 0s - loss: 0.0762 - mean_iou: 0.8375Epoch 00028: val_loss did not improve\n",
      "603/603 [==============================] - 6s - loss: 0.0772 - mean_iou: 0.8376 - val_loss: 0.0649 - val_mean_iou: 0.8383\n",
      "Epoch 30/50\n"
     ]
    },
    {
     "name": "stdout",
     "output_type": "stream",
     "text": [
      "592/603 [============================>.] - ETA: 0s - loss: 0.0808 - mean_iou: 0.8389Epoch 00029: val_loss improved from 0.06245 to 0.06211, saving model to model-dsbowl2018-1.h5\n",
      "603/603 [==============================] - 6s - loss: 0.0802 - mean_iou: 0.8389 - val_loss: 0.0621 - val_mean_iou: 0.8396\n",
      "Epoch 31/50\n",
      "592/603 [============================>.] - ETA: 0s - loss: 0.0759 - mean_iou: 0.8404Epoch 00030: val_loss improved from 0.06211 to 0.06051, saving model to model-dsbowl2018-1.h5\n",
      "603/603 [==============================] - 6s - loss: 0.0758 - mean_iou: 0.8404 - val_loss: 0.0605 - val_mean_iou: 0.8411\n",
      "Epoch 32/50\n",
      "592/603 [============================>.] - ETA: 0s - loss: 0.0770 - mean_iou: 0.8418Epoch 00031: val_loss did not improve\n",
      "603/603 [==============================] - 6s - loss: 0.0774 - mean_iou: 0.8418 - val_loss: 0.0640 - val_mean_iou: 0.8424\n",
      "Epoch 33/50\n",
      "592/603 [============================>.] - ETA: 0s - loss: 0.0759 - mean_iou: 0.8430Epoch 00032: val_loss did not improve\n",
      "603/603 [==============================] - 6s - loss: 0.0761 - mean_iou: 0.8430 - val_loss: 0.0627 - val_mean_iou: 0.8437\n",
      "Epoch 34/50\n",
      "592/603 [============================>.] - ETA: 0s - loss: 0.0794 - mean_iou: 0.8443Epoch 00033: val_loss did not improve\n",
      "603/603 [==============================] - 6s - loss: 0.0791 - mean_iou: 0.8443 - val_loss: 0.0650 - val_mean_iou: 0.8448\n",
      "Epoch 35/50\n",
      "592/603 [============================>.] - ETA: 0s - loss: 0.0786 - mean_iou: 0.8454Epoch 00034: val_loss did not improve\n",
      "603/603 [==============================] - 6s - loss: 0.0779 - mean_iou: 0.8454 - val_loss: 0.0612 - val_mean_iou: 0.8459\n",
      "Epoch 36/50\n",
      "592/603 [============================>.] - ETA: 0s - loss: 0.0740 - mean_iou: 0.8465Epoch 00035: val_loss did not improve\n",
      "603/603 [==============================] - 6s - loss: 0.0734 - mean_iou: 0.8465 - val_loss: 0.0613 - val_mean_iou: 0.8471\n",
      "Epoch 37/50\n",
      "592/603 [============================>.] - ETA: 0s - loss: 0.0720 - mean_iou: 0.8477Epoch 00036: val_loss improved from 0.06051 to 0.05968, saving model to model-dsbowl2018-1.h5\n",
      "603/603 [==============================] - 6s - loss: 0.0726 - mean_iou: 0.8477 - val_loss: 0.0597 - val_mean_iou: 0.8482\n",
      "Epoch 38/50\n",
      "592/603 [============================>.] - ETA: 0s - loss: 0.0708 - mean_iou: 0.8488Epoch 00037: val_loss improved from 0.05968 to 0.05930, saving model to model-dsbowl2018-1.h5\n",
      "603/603 [==============================] - 6s - loss: 0.0708 - mean_iou: 0.8488 - val_loss: 0.0593 - val_mean_iou: 0.8494\n",
      "Epoch 39/50\n",
      "592/603 [============================>.] - ETA: 0s - loss: 0.0708 - mean_iou: 0.8499Epoch 00038: val_loss did not improve\n",
      "603/603 [==============================] - 6s - loss: 0.0713 - mean_iou: 0.8499 - val_loss: 0.0603 - val_mean_iou: 0.8504\n",
      "Epoch 40/50\n",
      "592/603 [============================>.] - ETA: 0s - loss: 0.0703 - mean_iou: 0.8510Epoch 00039: val_loss did not improve\n",
      "603/603 [==============================] - 6s - loss: 0.0703 - mean_iou: 0.8510 - val_loss: 0.0636 - val_mean_iou: 0.8515\n",
      "Epoch 41/50\n",
      "592/603 [============================>.] - ETA: 0s - loss: 0.0698 - mean_iou: 0.8519Epoch 00040: val_loss did not improve\n",
      "603/603 [==============================] - 6s - loss: 0.0698 - mean_iou: 0.8519 - val_loss: 0.0597 - val_mean_iou: 0.8524\n",
      "Epoch 42/50\n",
      "592/603 [============================>.] - ETA: 0s - loss: 0.0658 - mean_iou: 0.8530Epoch 00041: val_loss did not improve\n",
      "603/603 [==============================] - 6s - loss: 0.0660 - mean_iou: 0.8530 - val_loss: 0.0602 - val_mean_iou: 0.8535\n",
      "Epoch 43/50\n",
      "592/603 [============================>.] - ETA: 0s - loss: 0.0669 - mean_iou: 0.8540Epoch 00042: val_loss did not improve\n",
      "603/603 [==============================] - 6s - loss: 0.0662 - mean_iou: 0.8540 - val_loss: 0.0620 - val_mean_iou: 0.8545\n",
      "Epoch 44/50\n",
      "592/603 [============================>.] - ETA: 0s - loss: 0.0678 - mean_iou: 0.8550Epoch 00043: val_loss did not improve\n",
      "603/603 [==============================] - 6s - loss: 0.0677 - mean_iou: 0.8550 - val_loss: 0.0614 - val_mean_iou: 0.8554\n",
      "Epoch 00043: early stopping\n"
     ]
    }
   ],
   "source": [
    "# Fit model\n",
    "earlystopper = EarlyStopping(patience=5, verbose=1)\n",
    "checkpointer = ModelCheckpoint('model-dsbowl2018-1.h5', verbose=1, save_best_only=True)\n",
    "results = model.fit(X_train, Y_train, validation_split=0.1, batch_size=16, epochs=50, \n",
    "                    callbacks=[earlystopper, checkpointer])"
   ]
  },
  {
   "cell_type": "code",
   "execution_count": 26,
   "metadata": {},
   "outputs": [],
   "source": [
    "#All right, looks good! Loss seems to be a bit erratic, though.\n",
    "#I'll leave it to you to improve the model architecture and parameters!\n",
    "\n",
    "#Make predictions\n",
    "#Let's make predictions both on the test set, the val set and the train set (as a sanity check).\n",
    "#Remember to load the best saved model if you've used early stopping and checkpointing."
   ]
  },
  {
   "cell_type": "code",
   "execution_count": 27,
   "metadata": {},
   "outputs": [
    {
     "name": "stdout",
     "output_type": "stream",
     "text": [
      "603/603 [==============================] - 2s     \n",
      "65/65 [==============================] - 0s     \n"
     ]
    }
   ],
   "source": [
    "# Predict on train, val and test\n",
    "model = load_model('model-dsbowl2018-1.h5', custom_objects={'mean_iou': mean_iou})\n",
    "preds_train = model.predict(X_train[:int(X_train.shape[0]*0.9)], verbose=1)\n",
    "preds_val = model.predict(X_train[int(X_train.shape[0]*0.9):], verbose=1)\n",
    "preds_test = model.predict(X_test, verbose=1)\n",
    "\n",
    "# Threshold predictions\n",
    "preds_train_t = (preds_train > 0.5).astype(np.uint8)\n",
    "preds_val_t = (preds_val > 0.5).astype(np.uint8)\n",
    "preds_test_t = (preds_test > 0.5).astype(np.uint8)\n",
    "\n",
    "# Create list of upsampled test masks\n",
    "preds_test_upsampled = []\n",
    "for i in range(len(preds_test)):\n",
    "    preds_test_upsampled.append(resize(np.squeeze(preds_test[i]), \n",
    "                                       (sizes_test[i][0], sizes_test[i][1]), \n",
    "                                       mode='constant', preserve_range=True))"
   ]
  },
  {
   "cell_type": "code",
   "execution_count": 28,
   "metadata": {},
   "outputs": [
    {
     "data": {
      "image/png": "[encoded data removed]",
      "text/plain": [
       "<Figure size 432x288 with 2 Axes>"
      ]
     },
     "metadata": {
      "needs_background": "light"
     },
     "output_type": "display_data"
    },
    {
     "data": {
      "image/png": "[encoded data removed]",
      "text/plain": [
       "<Figure size 432x288 with 1 Axes>"
      ]
     },
     "metadata": {
      "needs_background": "light"
     },
     "output_type": "display_data"
    },
    {
     "data": {
      "image/png": "[encoded data removed]",
      "text/plain": [
       "<Figure size 432x288 with 2 Axes>"
      ]
     },
     "metadata": {
      "needs_background": "light"
     },
     "output_type": "display_data"
    }
   ],
   "source": [
    "# Perform a sanity check on some random training samples\n",
    "ix = random.randint(0, len(preds_train_t))\n",
    "imshow(X_train[ix])\n",
    "plt.show()\n",
    "imshow(np.squeeze(Y_train[ix]))\n",
    "plt.show()\n",
    "imshow(np.squeeze(preds_train_t[ix]))\n",
    "plt.show()\n"
   ]
  },
  {
   "cell_type": "code",
   "execution_count": 29,
   "metadata": {},
   "outputs": [],
   "source": [
    "#Not too shabby! Definitely needs some more training and tweaking.\n",
    "\n",
    "#Encode and submit our results\n",
    "#Now it's time to submit our results. I've stolen this excellent implementation of run-length encoding.\n",
    "\n"
   ]
  },
  {
   "cell_type": "code",
   "execution_count": 30,
   "metadata": {},
   "outputs": [],
   "source": [
    "# Run-length encoding stolen from https://www.kaggle.com/rakhlin/fast-run-length-encoding-python\n",
    "def rle_encoding(x):\n",
    "    dots = np.where(x.T.flatten() == 1)[0]\n",
    "    run_lengths = []\n",
    "    prev = -2\n",
    "    for b in dots:\n",
    "        if (b>prev+1): run_lengths.extend((b + 1, 0))\n",
    "        run_lengths[-1] += 1\n",
    "        prev = b\n",
    "    return run_lengths\n",
    "\n",
    "def prob_to_rles(x, cutoff=0.5):\n",
    "    lab_img = label(x > cutoff)\n",
    "    for i in range(1, lab_img.max() + 1):\n",
    "        yield rle_encoding(lab_img == i)"
   ]
  },
  {
   "cell_type": "code",
   "execution_count": 31,
   "metadata": {},
   "outputs": [],
   "source": [
    "#Let's iterate over the test IDs and generate run-length encodings for each seperate mask identified by skimage ...\n",
    "\n"
   ]
  },
  {
   "cell_type": "code",
   "execution_count": 32,
   "metadata": {},
   "outputs": [],
   "source": [
    "new_test_ids = []\n",
    "rles = []\n",
    "for n, id_ in enumerate(test_ids):\n",
    "    rle = list(prob_to_rles(preds_test_upsampled[n]))\n",
    "    rles.extend(rle)\n",
    "    new_test_ids.extend([id_] * len(rle))"
   ]
  },
  {
   "cell_type": "code",
   "execution_count": 33,
   "metadata": {},
   "outputs": [],
   "source": [
    "#... and then finally create our submission!\n",
    "\n"
   ]
  },
  {
   "cell_type": "code",
   "execution_count": 34,
   "metadata": {},
   "outputs": [],
   "source": [
    "# Create submission DataFrame\n",
    "sub = pd.DataFrame()\n",
    "sub['ImageId'] = new_test_ids\n",
    "sub['EncodedPixels'] = pd.Series(rles).apply(lambda x: ' '.join(str(y) for y in x))\n",
    "sub.to_csv('sub-dsbowl2018-1.csv', index=False)"
   ]
  },
  {
   "cell_type": "code",
   "execution_count": null,
   "metadata": {},
   "outputs": [],
   "source": [
    "#This scored 0.233 on the LB for me. That was with version 2 of this notebook; be aware that the results from the neural network are extremely erratic and vary greatly from run to run (version 3 is significantly worse, for example). Version 7 scores 0.277!\n",
    "\n",
    "#You should easily be able to stabilize and improve the results just by changing a few parameters, tweaking the architecture a little bit and training longer with early stopping.\n",
    "\n",
    "#Have fun!"
   ]
  }
 ],
 "metadata": {
  "kernelspec": {
   "display_name": "Python 3",
   "language": "python",
   "name": "python3"
  },
  "language_info": {
   "codemirror_mode": {
    "name": "ipython",
    "version": 3
   },
   "file_extension": ".py",
   "mimetype": "text/x-python",
   "name": "python",
   "nbconvert_exporter": "python",
   "pygments_lexer": "ipython3",
   "version": "3.6.8"
  }
 },
 "nbformat": 4,
 "nbformat_minor": 2
}
